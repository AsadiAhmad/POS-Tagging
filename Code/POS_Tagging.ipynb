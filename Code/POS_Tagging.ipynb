{
  "cells": [
    {
      "cell_type": "markdown",
      "metadata": {
        "id": "view-in-github",
        "colab_type": "text"
      },
      "source": [
        "<a href=\"https://colab.research.google.com/github/AsadiAhmad/POS-Tagging/blob/main/Code/POS_Tagging.ipynb\" target=\"_parent\"><img src=\"https://colab.research.google.com/assets/colab-badge.svg\" alt=\"Open In Colab\"/></a>"
      ]
    },
    {
      "cell_type": "markdown",
      "metadata": {
        "id": "oUCkgtBQ3BKa"
      },
      "source": [
        "# Step 1: Import Libraries"
      ]
    },
    {
      "cell_type": "code",
      "execution_count": 69,
      "metadata": {
        "id": "RNlrktifynBv"
      },
      "outputs": [],
      "source": [
        "import requests\n",
        "import zipfile\n",
        "import os\n",
        "\n",
        "import polars as pl\n",
        "import numpy as np\n",
        "\n",
        "import math\n",
        "import re\n",
        "import random\n",
        "\n",
        "from typing import Dict, List, Tuple\n",
        "from collections import defaultdict\n",
        "\n",
        "import matplotlib.pyplot as plt\n",
        "import seaborn as sns"
      ]
    },
    {
      "cell_type": "markdown",
      "metadata": {
        "id": "bg-psXtf3Io7"
      },
      "source": [
        "# Step 2: Get Corpus"
      ]
    },
    {
      "cell_type": "markdown",
      "metadata": {
        "id": "sqPxQt3TUlN7"
      },
      "source": [
        "## Download zip files"
      ]
    },
    {
      "cell_type": "code",
      "execution_count": 70,
      "metadata": {
        "id": "_sIhlil8OrLn"
      },
      "outputs": [],
      "source": [
        "def download_zip(url, save_dir='.'):\n",
        "    os.makedirs(save_dir, exist_ok=True)\n",
        "    filename = os.path.join(save_dir, url.split('/')[-1])\n",
        "    response = requests.get(url, stream=True)\n",
        "\n",
        "    if response.status_code == 200:\n",
        "        with open(filename, 'wb') as f:\n",
        "            for chunk in response.iter_content(chunk_size=8192):\n",
        "                f.write(chunk)\n",
        "        return filename\n",
        "    else:\n",
        "        print(f\"Failed to fetch {url}. Status code: {response.status_code}\")\n",
        "        return None"
      ]
    },
    {
      "cell_type": "code",
      "execution_count": 71,
      "metadata": {
        "id": "2suMGg3iCx-y"
      },
      "outputs": [],
      "source": [
        "train_url = \"https://raw.githubusercontent.com/AsadiAhmad/POS-Tagging/main/Dataset/train.zip\"\n",
        "test_url = \"https://raw.githubusercontent.com/AsadiAhmad/POS-Tagging/main/Dataset/test.zip\"\n",
        "\n",
        "train_zip = download_zip(train_url)\n",
        "test_zip = download_zip(test_url)"
      ]
    },
    {
      "cell_type": "markdown",
      "metadata": {
        "id": "HsFvubk_UnmT"
      },
      "source": [
        "## Extrect Zip files"
      ]
    },
    {
      "cell_type": "code",
      "execution_count": 72,
      "metadata": {
        "colab": {
          "base_uri": "https://localhost:8080/"
        },
        "id": "00WJnJspXm6S",
        "outputId": "75cecb71-c2b1-48a6-8769-b96503d2aee3"
      },
      "outputs": [
        {
          "output_type": "stream",
          "name": "stdout",
          "text": [
            "Archive:  /content/train.zip\n",
            "  inflating: /content/train.txt      \n"
          ]
        }
      ],
      "source": [
        "!unzip -o /content/train.zip -d /content"
      ]
    },
    {
      "cell_type": "code",
      "execution_count": 73,
      "metadata": {
        "colab": {
          "base_uri": "https://localhost:8080/"
        },
        "id": "_H-uNjBVYDzY",
        "outputId": "53b68706-11fa-48b7-ec0a-ab296cd8d338"
      },
      "outputs": [
        {
          "output_type": "stream",
          "name": "stdout",
          "text": [
            "Archive:  /content/test.zip\n",
            "  inflating: /content/test.txt       \n"
          ]
        }
      ],
      "source": [
        "!unzip -o /content/test.zip -d /content"
      ]
    },
    {
      "cell_type": "markdown",
      "metadata": {
        "id": "a2HIXdtxkzpD"
      },
      "source": [
        "## Read the zip files"
      ]
    },
    {
      "cell_type": "code",
      "execution_count": 74,
      "metadata": {
        "id": "5QCj0Lxdk3kC"
      },
      "outputs": [],
      "source": [
        "with open(\"train.txt\", \"r\", encoding=\"utf-8\") as file:\n",
        "    train_txt = file.read()\n",
        "\n",
        "with open(\"test.txt\", \"r\", encoding=\"utf-8\") as file:\n",
        "    test_txt = file.read()"
      ]
    },
    {
      "cell_type": "markdown",
      "metadata": {
        "id": "2TjHjNwndn1R"
      },
      "source": [
        "# Step 3: Convert Corpus to Polars Data frame"
      ]
    },
    {
      "cell_type": "markdown",
      "source": [
        "## Convert into polars"
      ],
      "metadata": {
        "id": "Wl_ufirnVsuR"
      }
    },
    {
      "cell_type": "code",
      "execution_count": 75,
      "metadata": {
        "id": "eVyfPcdC0s9C"
      },
      "outputs": [],
      "source": [
        "def Convert_to_Polars(text, is_test=False):\n",
        "    lines = text.strip().split(\"\\n\")\n",
        "    sentences = []\n",
        "    tags = [] if not is_test else None\n",
        "    current_sentence = []\n",
        "    current_tags = [] if not is_test else None\n",
        "\n",
        "    for line in lines:\n",
        "        parts = line.split()\n",
        "        if is_test:\n",
        "            if len(parts) >= 1:\n",
        "                word = parts[0]\n",
        "                if word == \"#\":\n",
        "                    if current_sentence:\n",
        "                        sentences.append(current_sentence)\n",
        "                        current_sentence = []\n",
        "                else:\n",
        "                    current_sentence.append(word)\n",
        "        else:\n",
        "            if len(parts) == 2:\n",
        "                word, tag = parts\n",
        "                if word == \"#\":\n",
        "                    if current_sentence:\n",
        "                        sentences.append(current_sentence)\n",
        "                        tags.append(current_tags)\n",
        "                        current_sentence = []\n",
        "                        current_tags = []\n",
        "                else:\n",
        "                    current_sentence.append(word)\n",
        "                    current_tags.append(tag)\n",
        "\n",
        "    if current_sentence:\n",
        "        sentences.append(current_sentence)\n",
        "        if not is_test:\n",
        "            tags.append(current_tags)\n",
        "\n",
        "    if is_test:\n",
        "        sentences = pl.DataFrame({\n",
        "            \"index\": list(range(len(sentences))),\n",
        "            \"sentence\": sentences\n",
        "        })\n",
        "    else:\n",
        "        sentences = pl.DataFrame({\n",
        "            \"index\": list(range(len(sentences))),\n",
        "            \"sentence\": sentences,\n",
        "            \"tag\": tags\n",
        "        })\n",
        "\n",
        "    return sentences"
      ]
    },
    {
      "cell_type": "code",
      "source": [
        "train_sentences = Convert_to_Polars(train_txt)\n",
        "test_sentences = Convert_to_Polars(test_txt, True)"
      ],
      "metadata": {
        "id": "F1Tnls9-VYA4"
      },
      "execution_count": 76,
      "outputs": []
    },
    {
      "cell_type": "markdown",
      "source": [
        "## Set Config for polar showing"
      ],
      "metadata": {
        "id": "a4q6ohShVnSr"
      }
    },
    {
      "cell_type": "code",
      "source": [
        "pl.Config.set_tbl_rows(-1)\n",
        "pl.Config.set_tbl_cols(-1)\n",
        "pl.Config.set_fmt_str_lengths(70)\n",
        "pl.Config.set_fmt_table_cell_list_len(10)"
      ],
      "metadata": {
        "colab": {
          "base_uri": "https://localhost:8080/",
          "height": 224
        },
        "id": "giAGhXD0Vntv",
        "outputId": "51fd5b12-a350-49ed-c188-382d84e3ede9"
      },
      "execution_count": 77,
      "outputs": [
        {
          "output_type": "execute_result",
          "data": {
            "text/plain": [
              "polars.config.Config"
            ],
            "text/html": [
              "<div style=\"max-width:800px; border: 1px solid var(--colab-border-color);\"><style>\n",
              "      pre.function-repr-contents {\n",
              "        overflow-x: auto;\n",
              "        padding: 8px 12px;\n",
              "        max-height: 500px;\n",
              "      }\n",
              "\n",
              "      pre.function-repr-contents.function-repr-contents-collapsed {\n",
              "        cursor: pointer;\n",
              "        max-height: 100px;\n",
              "      }\n",
              "    </style>\n",
              "    <pre style=\"white-space: initial; background:\n",
              "         var(--colab-secondary-surface-color); padding: 8px 12px;\n",
              "         border-bottom: 1px solid var(--colab-border-color);\"><b>polars.config.Config</b><br/>def __call__(func)</pre><pre class=\"function-repr-contents function-repr-contents-collapsed\" style=\"\"><a class=\"filepath\" style=\"display:none\" href=\"#\">/usr/local/lib/python3.11/dist-packages/polars/config.py</a>Configure polars; offers options for table formatting and more.\n",
              "\n",
              "Notes\n",
              "-----\n",
              "Can also be used as a context manager OR a function decorator in order to\n",
              "temporarily scope the lifetime of specific options. For example:\n",
              "\n",
              "&gt;&gt;&gt; with pl.Config() as cfg:\n",
              "...     # set verbose for more detailed output within the scope\n",
              "...     cfg.set_verbose(True)  # doctest: +IGNORE_RESULT\n",
              "&gt;&gt;&gt; # scope exit - no longer in verbose mode\n",
              "\n",
              "This can also be written more compactly as:\n",
              "\n",
              "&gt;&gt;&gt; with pl.Config(verbose=True):\n",
              "...     pass\n",
              "\n",
              "(The compact format is available for all `Config` methods that take a single value).\n",
              "\n",
              "Alternatively, you can use as a decorator in order to scope the duration of the\n",
              "selected options to a specific function:\n",
              "\n",
              "&gt;&gt;&gt; @pl.Config(verbose=True)\n",
              "... def test():\n",
              "...     pass</pre>\n",
              "      <script>\n",
              "      if (google.colab.kernel.accessAllowed && google.colab.files && google.colab.files.view) {\n",
              "        for (const element of document.querySelectorAll('.filepath')) {\n",
              "          element.style.display = 'block'\n",
              "          element.onclick = (event) => {\n",
              "            event.preventDefault();\n",
              "            event.stopPropagation();\n",
              "            google.colab.files.view(element.textContent, 145);\n",
              "          };\n",
              "        }\n",
              "      }\n",
              "      for (const element of document.querySelectorAll('.function-repr-contents')) {\n",
              "        element.onclick = (event) => {\n",
              "          event.preventDefault();\n",
              "          event.stopPropagation();\n",
              "          element.classList.toggle('function-repr-contents-collapsed');\n",
              "        };\n",
              "      }\n",
              "      </script>\n",
              "      </div>"
            ]
          },
          "metadata": {},
          "execution_count": 77
        }
      ]
    },
    {
      "cell_type": "markdown",
      "source": [
        "## Showing frames"
      ],
      "metadata": {
        "id": "NrJ4GPXOVxlr"
      }
    },
    {
      "cell_type": "code",
      "source": [
        "train_sentences.head(10)"
      ],
      "metadata": {
        "colab": {
          "base_uri": "https://localhost:8080/",
          "height": 412
        },
        "id": "qOmTiPayVzSI",
        "outputId": "ea8a5d73-70ed-42fd-e82a-068aef208e6a"
      },
      "execution_count": 78,
      "outputs": [
        {
          "output_type": "execute_result",
          "data": {
            "text/plain": [
              "shape: (10, 3)\n",
              "┌───────┬─────────────────────────────────────────────┬────────────────────────────────────────────┐\n",
              "│ index ┆ sentence                                    ┆ tag                                        │\n",
              "│ ---   ┆ ---                                         ┆ ---                                        │\n",
              "│ i64   ┆ list[str]                                   ┆ list[str]                                  │\n",
              "╞═══════╪═════════════════════════════════════════════╪════════════════════════════════════════════╡\n",
              "│ 0     ┆ [\"اولین\", \"سیاره\", \"خارج\", \"از\", \"منظومه\",  ┆ [\"ADJ_SUP\", \"N_SING\", \"ADJ_SIM\", \"P\",      │\n",
              "│       ┆ \"شمسی\", \"دیده\", \"شد\", \".\"]                  ┆ \"N_SING\", \"ADJ_SIM\", \"ADJ_INO\", …          │\n",
              "│ 1     ┆ [\"واشنگتن\", \"ـ\", \"خبرگزاری\", \"جمهوری\",      ┆ [\"N_SING\", \"DELM\", \"N_SING\", \"N_SING\",     │\n",
              "│       ┆ \"اسلامی\"]                                    ┆ \"ADJ_SIM\"]                                 │\n",
              "│ 2     ┆ [\"ستاره‌شناسان\", \"می‌گویند\", \"که\", \"ممکن\",    ┆ [\"N_PL\", \"V_PRS\", \"CON\", \"ADJ_SIM\",        │\n",
              "│       ┆ \"است\", \"اولین\", \"سیاره\", \"خ…                ┆ \"V_PRE\", \"ADJ_SUP\", \"N_SING\", \"ADJ…        │\n",
              "│ 3     ┆ [\"دمشق\", \"،\", \"واحد\", \"مرکزی\", \"خبر\"]       ┆ [\"N_SING\", \"DEFAULT\", \"N_SING\", \"ADJ_SIM\", │\n",
              "│       ┆                                             ┆ \"N_SING\"]                                  │\n",
              "│ 4     ┆ [\"مصرف\", \"مداوم\", \"موز\", \"می‌تواند\", \"به\",   ┆ [\"N_SING\", \"ADJ_SIM\", \"N_SING\", \"V_PRS\",   │\n",
              "│       ┆ \"مشکلات\", \"دستگاه\", \"گوارش\"…                 ┆ \"P\", \"N_PL\", \"N_SING\", \"N_SIN…             │\n",
              "│ 5     ┆ [\"تهران\", \"ـ\", \"واحد\", \"مرکزی\", \"خبر\"]      ┆ [\"N_SING\", \"DELM\", \"N_SING\", \"ADJ_SIM\",    │\n",
              "│       ┆                                             ┆ \"N_SING\"]                                  │\n",
              "│ 6     ┆ [\"استفاده\", \"از\", \"بالش‌های\", \"پر\", \"برای\",  ┆ [\"N_SING\", \"P\", \"N_PL\", \"ADJ_SIM\", \"P\",    │\n",
              "│       ┆ \"بیماران\", \"مبتلا\", \"به\", …                  ┆ \"N_PL\", \"ADJ_SIM\", \"P\", \"N_SIN…            │\n",
              "│ 7     ┆ [\"مسعود\", \"شجاعی\", \"طباطبایی\"]              ┆ [\"N_SING\", \"N_SING\", \"N_SING\"]             │\n",
              "│ 8     ┆ [\"دنیای\", \"آدولف\", \"بورن\", \"دنیای\",         ┆ [\"N_SING\", \"N_SING\", \"N_SING\", \"N_SING\",   │\n",
              "│       ┆ \"اتفاقات\", \"رویایی\", \"است\", \".\", \"…         ┆ \"N_PL\", \"ADJ_SIM\", \"V_PRE\", \"…             │\n",
              "│ 9     ┆ [\"فیلمنامه\", \"کوتاه\", \"وسوسه\"]              ┆ [\"N_SING\", \"ADJ_SIM\", \"N_SING\"]            │\n",
              "└───────┴─────────────────────────────────────────────┴────────────────────────────────────────────┘"
            ],
            "text/html": [
              "<div><style>\n",
              ".dataframe > thead > tr,\n",
              ".dataframe > tbody > tr {\n",
              "  text-align: right;\n",
              "  white-space: pre-wrap;\n",
              "}\n",
              "</style>\n",
              "<small>shape: (10, 3)</small><table border=\"1\" class=\"dataframe\"><thead><tr><th>index</th><th>sentence</th><th>tag</th></tr><tr><td>i64</td><td>list[str]</td><td>list[str]</td></tr></thead><tbody><tr><td>0</td><td>[&quot;اولین&quot;, &quot;سیاره&quot;, &quot;خارج&quot;, &quot;از&quot;, &quot;منظومه&quot;, &quot;شمسی&quot;, &quot;دیده&quot;, &quot;شد&quot;, &quot;.&quot;]</td><td>[&quot;ADJ_SUP&quot;, &quot;N_SING&quot;, &quot;ADJ_SIM&quot;, &quot;P&quot;, &quot;N_SING&quot;, &quot;ADJ_SIM&quot;, &quot;ADJ_INO&quot;, &quot;V_PA&quot;, &quot;DELM&quot;]</td></tr><tr><td>1</td><td>[&quot;واشنگتن&quot;, &quot;ـ&quot;, &quot;خبرگزاری&quot;, &quot;جمهوری&quot;, &quot;اسلامی&quot;]</td><td>[&quot;N_SING&quot;, &quot;DELM&quot;, &quot;N_SING&quot;, &quot;N_SING&quot;, &quot;ADJ_SIM&quot;]</td></tr><tr><td>2</td><td>[&quot;ستاره‌شناسان&quot;, &quot;می‌گویند&quot;, &quot;که&quot;, &quot;ممکن&quot;, &quot;است&quot;, &quot;اولین&quot;, &quot;سیاره&quot;, &quot;خارج&quot;, &quot;از&quot;, … &quot;.&quot;]</td><td>[&quot;N_PL&quot;, &quot;V_PRS&quot;, &quot;CON&quot;, &quot;ADJ_SIM&quot;, &quot;V_PRE&quot;, &quot;ADJ_SUP&quot;, &quot;N_SING&quot;, &quot;ADJ_SIM&quot;, &quot;P&quot;, … &quot;DELM&quot;]</td></tr><tr><td>3</td><td>[&quot;دمشق&quot;, &quot;،&quot;, &quot;واحد&quot;, &quot;مرکزی&quot;, &quot;خبر&quot;]</td><td>[&quot;N_SING&quot;, &quot;DEFAULT&quot;, &quot;N_SING&quot;, &quot;ADJ_SIM&quot;, &quot;N_SING&quot;]</td></tr><tr><td>4</td><td>[&quot;مصرف&quot;, &quot;مداوم&quot;, &quot;موز&quot;, &quot;می‌تواند&quot;, &quot;به&quot;, &quot;مشکلات&quot;, &quot;دستگاه&quot;, &quot;گوارش&quot;, &quot;و&quot;, … &quot;.&quot;]</td><td>[&quot;N_SING&quot;, &quot;ADJ_SIM&quot;, &quot;N_SING&quot;, &quot;V_PRS&quot;, &quot;P&quot;, &quot;N_PL&quot;, &quot;N_SING&quot;, &quot;N_SING&quot;, &quot;CON&quot;, … &quot;DELM&quot;]</td></tr><tr><td>5</td><td>[&quot;تهران&quot;, &quot;ـ&quot;, &quot;واحد&quot;, &quot;مرکزی&quot;, &quot;خبر&quot;]</td><td>[&quot;N_SING&quot;, &quot;DELM&quot;, &quot;N_SING&quot;, &quot;ADJ_SIM&quot;, &quot;N_SING&quot;]</td></tr><tr><td>6</td><td>[&quot;استفاده&quot;, &quot;از&quot;, &quot;بالش‌های&quot;, &quot;پر&quot;, &quot;برای&quot;, &quot;بیماران&quot;, &quot;مبتلا&quot;, &quot;به&quot;, &quot;آسم&quot;, … &quot;.&quot;]</td><td>[&quot;N_SING&quot;, &quot;P&quot;, &quot;N_PL&quot;, &quot;ADJ_SIM&quot;, &quot;P&quot;, &quot;N_PL&quot;, &quot;ADJ_SIM&quot;, &quot;P&quot;, &quot;N_SING&quot;, … &quot;DELM&quot;]</td></tr><tr><td>7</td><td>[&quot;مسعود&quot;, &quot;شجاعی&quot;, &quot;طباطبایی&quot;]</td><td>[&quot;N_SING&quot;, &quot;N_SING&quot;, &quot;N_SING&quot;]</td></tr><tr><td>8</td><td>[&quot;دنیای&quot;, &quot;آدولف&quot;, &quot;بورن&quot;, &quot;دنیای&quot;, &quot;اتفاقات&quot;, &quot;رویایی&quot;, &quot;است&quot;, &quot;.&quot;, &quot;برای&quot;, … &quot;.&quot;]</td><td>[&quot;N_SING&quot;, &quot;N_SING&quot;, &quot;N_SING&quot;, &quot;N_SING&quot;, &quot;N_PL&quot;, &quot;ADJ_SIM&quot;, &quot;V_PRE&quot;, &quot;DELM&quot;, &quot;P&quot;, … &quot;DELM&quot;]</td></tr><tr><td>9</td><td>[&quot;فیلمنامه&quot;, &quot;کوتاه&quot;, &quot;وسوسه&quot;]</td><td>[&quot;N_SING&quot;, &quot;ADJ_SIM&quot;, &quot;N_SING&quot;]</td></tr></tbody></table></div>"
            ]
          },
          "metadata": {},
          "execution_count": 78
        }
      ]
    },
    {
      "cell_type": "code",
      "source": [
        "test_sentences.head(10)"
      ],
      "metadata": {
        "colab": {
          "base_uri": "https://localhost:8080/",
          "height": 412
        },
        "id": "djxN_u-2iQQf",
        "outputId": "4af7e278-5f5e-4107-cd8a-04e3f86204d5"
      },
      "execution_count": 79,
      "outputs": [
        {
          "output_type": "execute_result",
          "data": {
            "text/plain": [
              "shape: (10, 2)\n",
              "┌───────┬─────────────────────────────────────────────────────────────────────────┐\n",
              "│ index ┆ sentence                                                                │\n",
              "│ ---   ┆ ---                                                                     │\n",
              "│ i64   ┆ list[str]                                                               │\n",
              "╞═══════╪═════════════════════════════════════════════════════════════════════════╡\n",
              "│ 0     ┆ [\"در\", \"مناطق\", \"دور‌دست\", \"و\", \"مناطقی\", \"که\", \"100\", \"کیلومتر\", \"تا\"…  │\n",
              "│ 1     ┆ [\"بحث\", \"اول\"]                                                          │\n",
              "│ 2     ┆ [\"بحث\", \"در\", \"مورد\", \"یادبودی\", \"برای\", \"قربانیان\", \"کشتار\", \"دسته‌جم…  │\n",
              "│ 3     ┆ [\"بحث\", \"دوم\"]                                                          │\n",
              "│ 4     ┆ [\"بحث\", \"در\", \"مورد\", \"کتاب\", \"\"\", \"دانیال\", \"کلدخاگن\", \"\"\", \"در\", … \"… │\n",
              "│ 5     ┆ [\"بحث\", \"سوم\", \":\", \"نبرد\", \"مبرم\", \"در\", \"مورد\", \"نمایشگاهی\", \"که\", …… │\n",
              "│ 6     ┆ [\"کتاب\", \"تاریخ\", \"اسرائیل\", \"نوشته\", \"موش\", \"سوکرمان\", \"در\", \"سال\", \"… │\n",
              "│ 7     ┆ [\"گستاخی\", \"تؤتر\"]                                                      │\n",
              "│ 8     ┆ [\"هنرنمایی\", \"روبرت\", \"کولی\", \"در\", \"تهران\", \"مباحثی\", \"پرجنب‌وجوش\", \"…  │\n",
              "│ 9     ┆ [\"اولریش\", \"شرایبر\", \"/\", \"فرانکفورت\"]                                  │\n",
              "└───────┴─────────────────────────────────────────────────────────────────────────┘"
            ],
            "text/html": [
              "<div><style>\n",
              ".dataframe > thead > tr,\n",
              ".dataframe > tbody > tr {\n",
              "  text-align: right;\n",
              "  white-space: pre-wrap;\n",
              "}\n",
              "</style>\n",
              "<small>shape: (10, 2)</small><table border=\"1\" class=\"dataframe\"><thead><tr><th>index</th><th>sentence</th></tr><tr><td>i64</td><td>list[str]</td></tr></thead><tbody><tr><td>0</td><td>[&quot;در&quot;, &quot;مناطق&quot;, &quot;دور‌دست&quot;, &quot;و&quot;, &quot;مناطقی&quot;, &quot;که&quot;, &quot;100&quot;, &quot;کیلومتر&quot;, &quot;تا&quot;, … &quot;.&quot;]</td></tr><tr><td>1</td><td>[&quot;بحث&quot;, &quot;اول&quot;]</td></tr><tr><td>2</td><td>[&quot;بحث&quot;, &quot;در&quot;, &quot;مورد&quot;, &quot;یادبودی&quot;, &quot;برای&quot;, &quot;قربانیان&quot;, &quot;کشتار&quot;, &quot;دسته‌جمعی&quot;, &quot;در&quot;, &quot;برلین&quot;]</td></tr><tr><td>3</td><td>[&quot;بحث&quot;, &quot;دوم&quot;]</td></tr><tr><td>4</td><td>[&quot;بحث&quot;, &quot;در&quot;, &quot;مورد&quot;, &quot;کتاب&quot;, &quot;&quot;&quot;, &quot;دانیال&quot;, &quot;کلدخاگن&quot;, &quot;&quot;&quot;, &quot;در&quot;, … &quot;.&quot;]</td></tr><tr><td>5</td><td>[&quot;بحث&quot;, &quot;سوم&quot;, &quot;:&quot;, &quot;نبرد&quot;, &quot;مبرم&quot;, &quot;در&quot;, &quot;مورد&quot;, &quot;نمایشگاهی&quot;, &quot;که&quot;, … &quot;.&quot;]</td></tr><tr><td>6</td><td>[&quot;کتاب&quot;, &quot;تاریخ&quot;, &quot;اسرائیل&quot;, &quot;نوشته&quot;, &quot;موش&quot;, &quot;سوکرمان&quot;, &quot;در&quot;, &quot;سال&quot;, &quot;1998&quot;, … &quot;.&quot;]</td></tr><tr><td>7</td><td>[&quot;گستاخی&quot;, &quot;تؤتر&quot;]</td></tr><tr><td>8</td><td>[&quot;هنرنمایی&quot;, &quot;روبرت&quot;, &quot;کولی&quot;, &quot;در&quot;, &quot;تهران&quot;, &quot;مباحثی&quot;, &quot;پرجنب‌وجوش&quot;, &quot;را&quot;, &quot;در&quot;, … &quot;.&quot;]</td></tr><tr><td>9</td><td>[&quot;اولریش&quot;, &quot;شرایبر&quot;, &quot;/&quot;, &quot;فرانکفورت&quot;]</td></tr></tbody></table></div>"
            ]
          },
          "metadata": {},
          "execution_count": 79
        }
      ]
    },
    {
      "cell_type": "markdown",
      "metadata": {
        "id": "a1m-HcMUd8Hv"
      },
      "source": [
        "# Step 4: Split Train set into Train and Validation set"
      ]
    },
    {
      "cell_type": "code",
      "source": [
        "validation_sentences = train_sentences.sample(fraction=0.1, shuffle=True)\n",
        "train_sentences = train_sentences.join(validation_sentences, on=train_sentences.columns, how=\"anti\")"
      ],
      "metadata": {
        "id": "cll5ww0rXQwQ"
      },
      "execution_count": 11,
      "outputs": []
    },
    {
      "cell_type": "code",
      "source": [
        "train_sentences = train_sentences.with_columns(pl.arange(0, train_sentences.height).alias(\"index\"))\n",
        "validation_sentences = validation_sentences.with_columns(pl.arange(0, validation_sentences.height).alias(\"index\"))"
      ],
      "metadata": {
        "id": "BtGpOaDbYvKg"
      },
      "execution_count": 12,
      "outputs": []
    },
    {
      "cell_type": "code",
      "source": [
        "train_sentences.head(10)"
      ],
      "metadata": {
        "colab": {
          "base_uri": "https://localhost:8080/",
          "height": 412
        },
        "id": "OXJHEx9kaa47",
        "outputId": "0a2c96e2-2ec4-471b-c765-eb34fff50032"
      },
      "execution_count": 13,
      "outputs": [
        {
          "output_type": "execute_result",
          "data": {
            "text/plain": [
              "shape: (10, 3)\n",
              "┌───────┬─────────────────────────────────────────────┬────────────────────────────────────────────┐\n",
              "│ index ┆ sentence                                    ┆ tag                                        │\n",
              "│ ---   ┆ ---                                         ┆ ---                                        │\n",
              "│ i64   ┆ list[str]                                   ┆ list[str]                                  │\n",
              "╞═══════╪═════════════════════════════════════════════╪════════════════════════════════════════════╡\n",
              "│ 0     ┆ [\"اولین\", \"سیاره\", \"خارج\", \"از\", \"منظومه\",  ┆ [\"ADJ_SUP\", \"N_SING\", \"ADJ_SIM\", \"P\",      │\n",
              "│       ┆ \"شمسی\", \"دیده\", \"شد\", \".\"]                  ┆ \"N_SING\", \"ADJ_SIM\", \"ADJ_INO\", …          │\n",
              "│ 1     ┆ [\"واشنگتن\", \"ـ\", \"خبرگزاری\", \"جمهوری\",      ┆ [\"N_SING\", \"DELM\", \"N_SING\", \"N_SING\",     │\n",
              "│       ┆ \"اسلامی\"]                                    ┆ \"ADJ_SIM\"]                                 │\n",
              "│ 2     ┆ [\"ستاره‌شناسان\", \"می‌گویند\", \"که\", \"ممکن\",    ┆ [\"N_PL\", \"V_PRS\", \"CON\", \"ADJ_SIM\",        │\n",
              "│       ┆ \"است\", \"اولین\", \"سیاره\", \"خ…                ┆ \"V_PRE\", \"ADJ_SUP\", \"N_SING\", \"ADJ…        │\n",
              "│ 3     ┆ [\"دمشق\", \"،\", \"واحد\", \"مرکزی\", \"خبر\"]       ┆ [\"N_SING\", \"DEFAULT\", \"N_SING\", \"ADJ_SIM\", │\n",
              "│       ┆                                             ┆ \"N_SING\"]                                  │\n",
              "│ 4     ┆ [\"مصرف\", \"مداوم\", \"موز\", \"می‌تواند\", \"به\",   ┆ [\"N_SING\", \"ADJ_SIM\", \"N_SING\", \"V_PRS\",   │\n",
              "│       ┆ \"مشکلات\", \"دستگاه\", \"گوارش\"…                 ┆ \"P\", \"N_PL\", \"N_SING\", \"N_SIN…             │\n",
              "│ 5     ┆ [\"تهران\", \"ـ\", \"واحد\", \"مرکزی\", \"خبر\"]      ┆ [\"N_SING\", \"DELM\", \"N_SING\", \"ADJ_SIM\",    │\n",
              "│       ┆                                             ┆ \"N_SING\"]                                  │\n",
              "│ 6     ┆ [\"استفاده\", \"از\", \"بالش‌های\", \"پر\", \"برای\",  ┆ [\"N_SING\", \"P\", \"N_PL\", \"ADJ_SIM\", \"P\",    │\n",
              "│       ┆ \"بیماران\", \"مبتلا\", \"به\", …                  ┆ \"N_PL\", \"ADJ_SIM\", \"P\", \"N_SIN…            │\n",
              "│ 7     ┆ [\"دنیای\", \"آدولف\", \"بورن\", \"دنیای\",         ┆ [\"N_SING\", \"N_SING\", \"N_SING\", \"N_SING\",   │\n",
              "│       ┆ \"اتفاقات\", \"رویایی\", \"است\", \".\", \"…         ┆ \"N_PL\", \"ADJ_SIM\", \"V_PRE\", \"…             │\n",
              "│ 8     ┆ [\"فیلمنامه\", \"کوتاه\", \"وسوسه\"]              ┆ [\"N_SING\", \"ADJ_SIM\", \"N_SING\"]            │\n",
              "│ 9     ┆ [\"نسرین\", \"صالحی\"]                          ┆ [\"N_SING\", \"N_SING\"]                       │\n",
              "└───────┴─────────────────────────────────────────────┴────────────────────────────────────────────┘"
            ],
            "text/html": [
              "<div><style>\n",
              ".dataframe > thead > tr,\n",
              ".dataframe > tbody > tr {\n",
              "  text-align: right;\n",
              "  white-space: pre-wrap;\n",
              "}\n",
              "</style>\n",
              "<small>shape: (10, 3)</small><table border=\"1\" class=\"dataframe\"><thead><tr><th>index</th><th>sentence</th><th>tag</th></tr><tr><td>i64</td><td>list[str]</td><td>list[str]</td></tr></thead><tbody><tr><td>0</td><td>[&quot;اولین&quot;, &quot;سیاره&quot;, &quot;خارج&quot;, &quot;از&quot;, &quot;منظومه&quot;, &quot;شمسی&quot;, &quot;دیده&quot;, &quot;شد&quot;, &quot;.&quot;]</td><td>[&quot;ADJ_SUP&quot;, &quot;N_SING&quot;, &quot;ADJ_SIM&quot;, &quot;P&quot;, &quot;N_SING&quot;, &quot;ADJ_SIM&quot;, &quot;ADJ_INO&quot;, &quot;V_PA&quot;, &quot;DELM&quot;]</td></tr><tr><td>1</td><td>[&quot;واشنگتن&quot;, &quot;ـ&quot;, &quot;خبرگزاری&quot;, &quot;جمهوری&quot;, &quot;اسلامی&quot;]</td><td>[&quot;N_SING&quot;, &quot;DELM&quot;, &quot;N_SING&quot;, &quot;N_SING&quot;, &quot;ADJ_SIM&quot;]</td></tr><tr><td>2</td><td>[&quot;ستاره‌شناسان&quot;, &quot;می‌گویند&quot;, &quot;که&quot;, &quot;ممکن&quot;, &quot;است&quot;, &quot;اولین&quot;, &quot;سیاره&quot;, &quot;خارج&quot;, &quot;از&quot;, … &quot;.&quot;]</td><td>[&quot;N_PL&quot;, &quot;V_PRS&quot;, &quot;CON&quot;, &quot;ADJ_SIM&quot;, &quot;V_PRE&quot;, &quot;ADJ_SUP&quot;, &quot;N_SING&quot;, &quot;ADJ_SIM&quot;, &quot;P&quot;, … &quot;DELM&quot;]</td></tr><tr><td>3</td><td>[&quot;دمشق&quot;, &quot;،&quot;, &quot;واحد&quot;, &quot;مرکزی&quot;, &quot;خبر&quot;]</td><td>[&quot;N_SING&quot;, &quot;DEFAULT&quot;, &quot;N_SING&quot;, &quot;ADJ_SIM&quot;, &quot;N_SING&quot;]</td></tr><tr><td>4</td><td>[&quot;مصرف&quot;, &quot;مداوم&quot;, &quot;موز&quot;, &quot;می‌تواند&quot;, &quot;به&quot;, &quot;مشکلات&quot;, &quot;دستگاه&quot;, &quot;گوارش&quot;, &quot;و&quot;, … &quot;.&quot;]</td><td>[&quot;N_SING&quot;, &quot;ADJ_SIM&quot;, &quot;N_SING&quot;, &quot;V_PRS&quot;, &quot;P&quot;, &quot;N_PL&quot;, &quot;N_SING&quot;, &quot;N_SING&quot;, &quot;CON&quot;, … &quot;DELM&quot;]</td></tr><tr><td>5</td><td>[&quot;تهران&quot;, &quot;ـ&quot;, &quot;واحد&quot;, &quot;مرکزی&quot;, &quot;خبر&quot;]</td><td>[&quot;N_SING&quot;, &quot;DELM&quot;, &quot;N_SING&quot;, &quot;ADJ_SIM&quot;, &quot;N_SING&quot;]</td></tr><tr><td>6</td><td>[&quot;استفاده&quot;, &quot;از&quot;, &quot;بالش‌های&quot;, &quot;پر&quot;, &quot;برای&quot;, &quot;بیماران&quot;, &quot;مبتلا&quot;, &quot;به&quot;, &quot;آسم&quot;, … &quot;.&quot;]</td><td>[&quot;N_SING&quot;, &quot;P&quot;, &quot;N_PL&quot;, &quot;ADJ_SIM&quot;, &quot;P&quot;, &quot;N_PL&quot;, &quot;ADJ_SIM&quot;, &quot;P&quot;, &quot;N_SING&quot;, … &quot;DELM&quot;]</td></tr><tr><td>7</td><td>[&quot;دنیای&quot;, &quot;آدولف&quot;, &quot;بورن&quot;, &quot;دنیای&quot;, &quot;اتفاقات&quot;, &quot;رویایی&quot;, &quot;است&quot;, &quot;.&quot;, &quot;برای&quot;, … &quot;.&quot;]</td><td>[&quot;N_SING&quot;, &quot;N_SING&quot;, &quot;N_SING&quot;, &quot;N_SING&quot;, &quot;N_PL&quot;, &quot;ADJ_SIM&quot;, &quot;V_PRE&quot;, &quot;DELM&quot;, &quot;P&quot;, … &quot;DELM&quot;]</td></tr><tr><td>8</td><td>[&quot;فیلمنامه&quot;, &quot;کوتاه&quot;, &quot;وسوسه&quot;]</td><td>[&quot;N_SING&quot;, &quot;ADJ_SIM&quot;, &quot;N_SING&quot;]</td></tr><tr><td>9</td><td>[&quot;نسرین&quot;, &quot;صالحی&quot;]</td><td>[&quot;N_SING&quot;, &quot;N_SING&quot;]</td></tr></tbody></table></div>"
            ]
          },
          "metadata": {},
          "execution_count": 13
        }
      ]
    },
    {
      "cell_type": "code",
      "source": [
        "validation_sentences.head(10)"
      ],
      "metadata": {
        "colab": {
          "base_uri": "https://localhost:8080/",
          "height": 412
        },
        "id": "xCauWSqFYIq5",
        "outputId": "7d6af776-21c7-4d0e-8d88-4622f710d342"
      },
      "execution_count": 14,
      "outputs": [
        {
          "output_type": "execute_result",
          "data": {
            "text/plain": [
              "shape: (10, 3)\n",
              "┌───────┬─────────────────────────────────────────────┬────────────────────────────────────────────┐\n",
              "│ index ┆ sentence                                    ┆ tag                                        │\n",
              "│ ---   ┆ ---                                         ┆ ---                                        │\n",
              "│ i64   ┆ list[str]                                   ┆ list[str]                                  │\n",
              "╞═══════╪═════════════════════════════════════════════╪════════════════════════════════════════════╡\n",
              "│ 0     ┆ [\"ازدواج\", \"پس\", \"از\", \"46\", \"سال\",         ┆ [\"N_SING\", \"N_SING\", \"P\", \"N_SING\",        │\n",
              "│       ┆ \"انتظار\", \"!\"]                              ┆ \"N_SING\", \"N_SING\", \"DELM\"]                │\n",
              "│ 1     ┆ [\"پاریس\", \"ـ\", \"ایرنا\"]                     ┆ [\"N_SING\", \"DELM\", \"N_SING\"]               │\n",
              "│ 2     ┆ [\"الفبای\", \"فارسی\", \"باستان\", \"36\", \"حرف\",  ┆ [\"N_SING\", \"N_SING\", \"ADJ_SIM\", \"N_SING\",  │\n",
              "│       ┆ \"و\", \"2\", \"واژه‌جداکن\", \"و\"…                 ┆ \"N_SING\", \"CON\", \"N_SING\", \"…              │\n",
              "│ 3     ┆ [\"نیویورک\", \"-\", \"ایرنا\", \":\", \"مقامات\",    ┆ [\"N_SING\", \"DELM\", \"N_SING\", \"DELM\",       │\n",
              "│       ┆ \"بهداشتی\", \"آمریکا\", \"اعلام\",…               ┆ \"N_PL\", \"ADJ_SIM\", \"N_SING\", \"N_S…         │\n",
              "│ 4     ┆ [\"مسعود\", \"جمشیدی\", \":\", \"همه\", \"تلاش\",      ┆ [\"N_SING\", \"N_SING\", \"DELM\", \"QUA\",        │\n",
              "│       ┆ \"خود\", \"را\", \"به\", \"کار\", … \".…             ┆ \"N_SING\", \"PRO\", \"P\", \"P\", \"N_SING…        │\n",
              "│ 5     ┆ [\"روزنامه\", \"ایران\", \"در\", \"ستون\",          ┆ [\"N_SING\", \"N_SING\", \"P\", \"N_SING\",        │\n",
              "│       ┆ \"خبرهای\", \"ویژه\", \"خود\", \"نوشته\", \"…        ┆ \"N_PL\", \"ADJ_SIM\", \"PRO\", \"ADJ_INO…        │\n",
              "│ 6     ┆ [\"نیروهای\", \"روسیه\", \"،\", \"دیروز\", \"»\",     ┆ [\"N_PL\", \"N_SING\", \"DELM\", \"ADV_TIME\",     │\n",
              "│       ┆ \"شنبه\", \"«\", \"برای\", \"دومین\", …             ┆ \"DELM\", \"N_SING\", \"DELM\", \"P\", …           │\n",
              "│ 7     ┆ [\"یک\", \"زن\", \"جوان\", \"آلمانی\", \"که\",        ┆ [\"N_SING\", \"N_SING\", \"ADJ_SIM\", \"ADJ_SIM\", │\n",
              "│       ┆ \"برای\", \"گردش\", \"به\", \"ترکیه\", … …          ┆ \"CON\", \"P\", \"N_SING\", \"P\", …               │\n",
              "│ 8     ┆ [\"نگارنده\", \"بحث\", \"ساخت\", \"سازه‌ای\",        ┆ [\"N_SING\", \"N_SING\", \"N_SING\", \"ADJ_SIM\",  │\n",
              "│       ┆ \"گروه\", \"فعلی\", \"و\", \"این‌که\", \"…            ┆ \"N_SING\", \"ADJ_SIM\", \"CON\", …              │\n",
              "│ 9     ┆ [\"طبیعی\", \"است\", \"که\", \"این\", \"بحران\",      ┆ [\"ADJ_SIM\", \"V_PRE\", \"CON\", \"DET\",         │\n",
              "│       ┆ \"یک‌روزه\", \"به\", \"سراغ\", \"ما\", …             ┆ \"N_SING\", \"MORP\", \"P\", \"N_SING\", \"P…       │\n",
              "└───────┴─────────────────────────────────────────────┴────────────────────────────────────────────┘"
            ],
            "text/html": [
              "<div><style>\n",
              ".dataframe > thead > tr,\n",
              ".dataframe > tbody > tr {\n",
              "  text-align: right;\n",
              "  white-space: pre-wrap;\n",
              "}\n",
              "</style>\n",
              "<small>shape: (10, 3)</small><table border=\"1\" class=\"dataframe\"><thead><tr><th>index</th><th>sentence</th><th>tag</th></tr><tr><td>i64</td><td>list[str]</td><td>list[str]</td></tr></thead><tbody><tr><td>0</td><td>[&quot;ازدواج&quot;, &quot;پس&quot;, &quot;از&quot;, &quot;46&quot;, &quot;سال&quot;, &quot;انتظار&quot;, &quot;!&quot;]</td><td>[&quot;N_SING&quot;, &quot;N_SING&quot;, &quot;P&quot;, &quot;N_SING&quot;, &quot;N_SING&quot;, &quot;N_SING&quot;, &quot;DELM&quot;]</td></tr><tr><td>1</td><td>[&quot;پاریس&quot;, &quot;ـ&quot;, &quot;ایرنا&quot;]</td><td>[&quot;N_SING&quot;, &quot;DELM&quot;, &quot;N_SING&quot;]</td></tr><tr><td>2</td><td>[&quot;الفبای&quot;, &quot;فارسی&quot;, &quot;باستان&quot;, &quot;36&quot;, &quot;حرف&quot;, &quot;و&quot;, &quot;2&quot;, &quot;واژه‌جداکن&quot;, &quot;و&quot;, … &quot;.&quot;]</td><td>[&quot;N_SING&quot;, &quot;N_SING&quot;, &quot;ADJ_SIM&quot;, &quot;N_SING&quot;, &quot;N_SING&quot;, &quot;CON&quot;, &quot;N_SING&quot;, &quot;N_SING&quot;, &quot;CON&quot;, … &quot;DELM&quot;]</td></tr><tr><td>3</td><td>[&quot;نیویورک&quot;, &quot;-&quot;, &quot;ایرنا&quot;, &quot;:&quot;, &quot;مقامات&quot;, &quot;بهداشتی&quot;, &quot;آمریکا&quot;, &quot;اعلام&quot;, &quot;کردند&quot;, … &quot;.&quot;]</td><td>[&quot;N_SING&quot;, &quot;DELM&quot;, &quot;N_SING&quot;, &quot;DELM&quot;, &quot;N_PL&quot;, &quot;ADJ_SIM&quot;, &quot;N_SING&quot;, &quot;N_SING&quot;, &quot;V_PA&quot;, … &quot;DELM&quot;]</td></tr><tr><td>4</td><td>[&quot;مسعود&quot;, &quot;جمشیدی&quot;, &quot;:&quot;, &quot;همه&quot;, &quot;تلاش&quot;, &quot;خود&quot;, &quot;را&quot;, &quot;به&quot;, &quot;کار&quot;, … &quot;.&quot;]</td><td>[&quot;N_SING&quot;, &quot;N_SING&quot;, &quot;DELM&quot;, &quot;QUA&quot;, &quot;N_SING&quot;, &quot;PRO&quot;, &quot;P&quot;, &quot;P&quot;, &quot;N_SING&quot;, … &quot;DELM&quot;]</td></tr><tr><td>5</td><td>[&quot;روزنامه&quot;, &quot;ایران&quot;, &quot;در&quot;, &quot;ستون&quot;, &quot;خبرهای&quot;, &quot;ویژه&quot;, &quot;خود&quot;, &quot;نوشته&quot;, &quot;است&quot;, … &quot;.&quot;]</td><td>[&quot;N_SING&quot;, &quot;N_SING&quot;, &quot;P&quot;, &quot;N_SING&quot;, &quot;N_PL&quot;, &quot;ADJ_SIM&quot;, &quot;PRO&quot;, &quot;ADJ_INO&quot;, &quot;V_PRE&quot;, … &quot;DELM&quot;]</td></tr><tr><td>6</td><td>[&quot;نیروهای&quot;, &quot;روسیه&quot;, &quot;،&quot;, &quot;دیروز&quot;, &quot;»&quot;, &quot;شنبه&quot;, &quot;«&quot;, &quot;برای&quot;, &quot;دومین&quot;, … &quot;.&quot;]</td><td>[&quot;N_PL&quot;, &quot;N_SING&quot;, &quot;DELM&quot;, &quot;ADV_TIME&quot;, &quot;DELM&quot;, &quot;N_SING&quot;, &quot;DELM&quot;, &quot;P&quot;, &quot;ADJ_SUP&quot;, … &quot;DELM&quot;]</td></tr><tr><td>7</td><td>[&quot;یک&quot;, &quot;زن&quot;, &quot;جوان&quot;, &quot;آلمانی&quot;, &quot;که&quot;, &quot;برای&quot;, &quot;گردش&quot;, &quot;به&quot;, &quot;ترکیه&quot;, … &quot;.&quot;]</td><td>[&quot;N_SING&quot;, &quot;N_SING&quot;, &quot;ADJ_SIM&quot;, &quot;ADJ_SIM&quot;, &quot;CON&quot;, &quot;P&quot;, &quot;N_SING&quot;, &quot;P&quot;, &quot;N_SING&quot;, … &quot;DELM&quot;]</td></tr><tr><td>8</td><td>[&quot;نگارنده&quot;, &quot;بحث&quot;, &quot;ساخت&quot;, &quot;سازه‌ای&quot;, &quot;گروه&quot;, &quot;فعلی&quot;, &quot;و&quot;, &quot;این‌که&quot;, &quot;وابسته‌ها&quot;, … &quot;.&quot;]</td><td>[&quot;N_SING&quot;, &quot;N_SING&quot;, &quot;N_SING&quot;, &quot;ADJ_SIM&quot;, &quot;N_SING&quot;, &quot;ADJ_SIM&quot;, &quot;CON&quot;, &quot;CON&quot;, &quot;N_PL&quot;, … &quot;DELM&quot;]</td></tr><tr><td>9</td><td>[&quot;طبیعی&quot;, &quot;است&quot;, &quot;که&quot;, &quot;این&quot;, &quot;بحران&quot;, &quot;یک‌روزه&quot;, &quot;به&quot;, &quot;سراغ&quot;, &quot;ما&quot;, … &quot;.&quot;]</td><td>[&quot;ADJ_SIM&quot;, &quot;V_PRE&quot;, &quot;CON&quot;, &quot;DET&quot;, &quot;N_SING&quot;, &quot;MORP&quot;, &quot;P&quot;, &quot;N_SING&quot;, &quot;PRO&quot;, … &quot;DELM&quot;]</td></tr></tbody></table></div>"
            ]
          },
          "metadata": {},
          "execution_count": 14
        }
      ]
    },
    {
      "cell_type": "markdown",
      "metadata": {
        "id": "6OtJbvUUeCrp"
      },
      "source": [
        "# Step 5: Preprocessing"
      ]
    },
    {
      "cell_type": "code",
      "source": [
        "# Actually this train set is good enough for not preprocessing!"
      ],
      "metadata": {
        "id": "AWgF__kjknPb"
      },
      "execution_count": 15,
      "outputs": []
    },
    {
      "cell_type": "markdown",
      "source": [
        "# Step 6: Calculate Emission Model"
      ],
      "metadata": {
        "id": "EK9UJCkbae6n"
      }
    },
    {
      "cell_type": "code",
      "source": [
        "def calculate_emission_model(dataframe):\n",
        "    model_dict = dict()\n",
        "    tag_counts  = dict()\n",
        "    for row in dataframe.rows(named=True):\n",
        "        for index in range(len(row[\"sentence\"])):\n",
        "            word = row[\"sentence\"][index]\n",
        "            tag = row[\"tag\"][index]\n",
        "            if (word, tag) in model_dict:\n",
        "                model_dict[(word, tag)] += 1\n",
        "            else:\n",
        "                model_dict[(word, tag)] = 1\n",
        "            if tag in tag_counts:\n",
        "                tag_counts[tag] += 1\n",
        "            else:\n",
        "                tag_counts[tag] = 1\n",
        "\n",
        "    for (word, tag), count in model_dict.items():\n",
        "        model_dict[(word, tag)] = count / tag_counts[tag]\n",
        "\n",
        "    return model_dict"
      ],
      "metadata": {
        "id": "v338jEp6ahQF"
      },
      "execution_count": 16,
      "outputs": []
    },
    {
      "cell_type": "code",
      "source": [
        "emission_model_dict = calculate_emission_model(train_sentences)"
      ],
      "metadata": {
        "id": "rLM4F8K1-Ys3"
      },
      "execution_count": 17,
      "outputs": []
    },
    {
      "cell_type": "markdown",
      "source": [
        "# Step 7: Calculate N-Gram Model"
      ],
      "metadata": {
        "id": "5foYT4QOxYiw"
      }
    },
    {
      "cell_type": "code",
      "source": [
        "def calculate_ngram_probabilities(df: pl.DataFrame, n: int) -> Dict[Tuple[str, ...], float]:\n",
        "    ngram_counts = defaultdict(int)\n",
        "    total_ngrams = 0\n",
        "\n",
        "    for sentence in df['tag']:\n",
        "        for i in range(len(sentence) - n + 1):\n",
        "            ngram = tuple(sentence[i:i+n])\n",
        "            ngram_counts[ngram] += 1\n",
        "            total_ngrams += 1\n",
        "\n",
        "    ngram_probabilities = {ngram: count / total_ngrams for ngram, count in ngram_counts.items()}\n",
        "\n",
        "    return ngram_probabilities"
      ],
      "metadata": {
        "id": "fYO7JQaWC5m9"
      },
      "execution_count": 18,
      "outputs": []
    },
    {
      "cell_type": "code",
      "source": [
        "unigram_dict = calculate_ngram_probabilities(train_sentences, n=1)\n",
        "bigram_dict = calculate_ngram_probabilities(train_sentences, n=2)\n",
        "trigram_dict = calculate_ngram_probabilities(train_sentences, n=3)"
      ],
      "metadata": {
        "id": "QeJnFsThAlJX"
      },
      "execution_count": 19,
      "outputs": []
    },
    {
      "cell_type": "code",
      "source": [
        "def get_random_ngram_sample(ngram_dict: dict, k: int = 1) -> dict:\n",
        "    if not ngram_dict:\n",
        "        return {}\n",
        "\n",
        "    keys = random.sample(list(ngram_dict.keys()), k)\n",
        "    return {key: ngram_dict[key] for key in keys}"
      ],
      "metadata": {
        "id": "RAvbLx3HIAso"
      },
      "execution_count": 20,
      "outputs": []
    },
    {
      "cell_type": "code",
      "source": [
        "get_random_ngram_sample(trigram_dict)"
      ],
      "metadata": {
        "colab": {
          "base_uri": "https://localhost:8080/"
        },
        "id": "DUf19ZVYJrP8",
        "outputId": "89c2b873-5f48-46e2-c051-cf235e96f333"
      },
      "execution_count": 21,
      "outputs": [
        {
          "output_type": "execute_result",
          "data": {
            "text/plain": [
              "{('N_PL', 'ADJ_SIM', 'N_PL'): 0.0006347359114604392}"
            ]
          },
          "metadata": {},
          "execution_count": 21
        }
      ]
    },
    {
      "cell_type": "markdown",
      "source": [
        "# Step 8: Viterbi Algorithm"
      ],
      "metadata": {
        "id": "ZAktlYLSHl_M"
      }
    },
    {
      "cell_type": "code",
      "source": [
        "def viterbi_part(word_part, tag_part, n, emission_model_dict, unigram_dict, bigram_dict, trigram_dict):\n",
        "    last_word = word_part[-1]\n",
        "    if last_word == '.':\n",
        "        return \"DELM\"\n",
        "\n",
        "    possible_tags = list(unigram_dict.keys())\n",
        "    best_tag = \"UNK\"\n",
        "    best_log_prob = -float('inf')\n",
        "\n",
        "    if n == 1 and len(tag_part) == 0:\n",
        "        for tag in possible_tags:\n",
        "            current_tag = tag[0] if isinstance(tag, tuple) else tag\n",
        "            P_word_given_tag = emission_model_dict.get((last_word, current_tag), 0)\n",
        "            if P_word_given_tag <= 0:\n",
        "                if last_word.startswith(\"می‌\"):\n",
        "                    P_word_given_tag = emission_model_dict.get((\"می‌*\", current_tag), 0)\n",
        "                elif last_word.endswith(\"ها\"):\n",
        "                    P_word_given_tag = emission_model_dict.get((\"*ها\", current_tag), 0)\n",
        "\n",
        "            if P_word_given_tag <= 0:\n",
        "                continue\n",
        "\n",
        "            P_tag = unigram_dict.get(current_tag, 0)\n",
        "            if P_tag <= 0:\n",
        "                continue\n",
        "\n",
        "            log_prob = math.log(P_word_given_tag) + math.log(P_tag)\n",
        "\n",
        "            if log_prob > best_log_prob:\n",
        "                best_log_prob = log_prob\n",
        "                best_tag = current_tag\n",
        "\n",
        "    else:\n",
        "        for tag in possible_tags:\n",
        "            current_tag = tag[0] if isinstance(tag, tuple) else tag\n",
        "            P_word_given_tag = emission_model_dict.get((last_word, current_tag), 0)\n",
        "            if P_word_given_tag <= 0:\n",
        "                continue\n",
        "\n",
        "            log_P_word = math.log(P_word_given_tag)\n",
        "            log_P_transition = -float('inf')\n",
        "\n",
        "            if n == 1:\n",
        "                P_tag = unigram_dict.get(current_tag, 0)\n",
        "                if P_tag > 0:\n",
        "                    log_P_transition = math.log(P_tag)\n",
        "\n",
        "            elif n == 2 and len(tag_part) >= 1:\n",
        "                prev_tag = tag_part[-1][0] if isinstance(tag_part[-1], tuple) else tag_part[-1]\n",
        "                P_trans = bigram_dict.get((prev_tag, current_tag), 0)\n",
        "                if P_trans > 0:\n",
        "                    log_P_transition = math.log(P_trans)\n",
        "\n",
        "            elif n == 3 and len(tag_part) >= 2:\n",
        "                prev1 = tag_part[-1][0] if isinstance(tag_part[-1], tuple) else tag_part[-1]\n",
        "                prev2 = tag_part[-2][0] if isinstance(tag_part[-2], tuple) else tag_part[-2]\n",
        "                P_trans = trigram_dict.get((prev2, prev1, current_tag), 0)\n",
        "                if P_trans > 0:\n",
        "                    log_P_transition = math.log(P_trans)\n",
        "\n",
        "            if log_P_transition == -float('inf'):\n",
        "                continue\n",
        "            total_log_prob = log_P_word + log_P_transition\n",
        "\n",
        "            if total_log_prob > best_log_prob:\n",
        "                best_log_prob = total_log_prob\n",
        "                best_tag = current_tag\n",
        "\n",
        "    if best_tag == \"UNK\" and len(possible_tags) > 0:\n",
        "        best_tag = max(unigram_dict.items(), key=lambda x: x[1])[0]\n",
        "        if isinstance(best_tag, tuple):\n",
        "            best_tag = best_tag[0]\n",
        "\n",
        "    return best_tag"
      ],
      "metadata": {
        "id": "7sPBVkvsR8m2"
      },
      "execution_count": 22,
      "outputs": []
    },
    {
      "cell_type": "code",
      "source": [
        "tag = viterbi_part([\"ستاره‌شناسان\", \"می‌گویند\", \"که\"], [\"N_PL\", \"V_PRS\"], 3, emission_model_dict, unigram_dict, bigram_dict, trigram_dict)"
      ],
      "metadata": {
        "id": "_hbpp12Viyp8"
      },
      "execution_count": 23,
      "outputs": []
    },
    {
      "cell_type": "code",
      "source": [
        "print(tag)"
      ],
      "metadata": {
        "colab": {
          "base_uri": "https://localhost:8080/"
        },
        "id": "BRvp_HOsj3cx",
        "outputId": "2631331a-f01c-4381-dfa8-2ede65ac85e4"
      },
      "execution_count": 24,
      "outputs": [
        {
          "output_type": "stream",
          "name": "stdout",
          "text": [
            "CON\n"
          ]
        }
      ]
    },
    {
      "cell_type": "code",
      "source": [
        "def viterbi_sentence(sentence, n, emission_model_dict, unigram_dict, bigram_dict, trigram_dict):\n",
        "    tag_sequence = []\n",
        "\n",
        "    for i, word in enumerate(sentence):\n",
        "        if i == 0:\n",
        "            tag_n = 1\n",
        "        elif i == 1:\n",
        "            tag_n = min(n, 2)\n",
        "        else:\n",
        "            tag_n = n\n",
        "        best_tag = viterbi_part(sentence[:i+1], tag_sequence, tag_n, emission_model_dict, unigram_dict, bigram_dict, trigram_dict)\n",
        "        tag_sequence.append(best_tag)\n",
        "\n",
        "    return tag_sequence"
      ],
      "metadata": {
        "id": "H4vX7kd7RVEU"
      },
      "execution_count": 25,
      "outputs": []
    },
    {
      "cell_type": "code",
      "source": [
        "sentunce = viterbi_sentence([\"اولین\", \"سیاره\", \"خارج\", \"از\", \"منظومه\", \"شمسی\"], 3, emission_model_dict, unigram_dict, bigram_dict, trigram_dict)"
      ],
      "metadata": {
        "id": "6EQOnBNXlYq_"
      },
      "execution_count": 26,
      "outputs": []
    },
    {
      "cell_type": "code",
      "source": [
        "print(sentunce)"
      ],
      "metadata": {
        "colab": {
          "base_uri": "https://localhost:8080/"
        },
        "id": "WmefLD8nlvio",
        "outputId": "6aa54e8b-576d-40d7-e909-df8259783d8b"
      },
      "execution_count": 27,
      "outputs": [
        {
          "output_type": "stream",
          "name": "stdout",
          "text": [
            "['N_SING', 'N_SING', 'N_SING', 'P', 'N_SING', 'ADJ_SIM']\n"
          ]
        }
      ]
    },
    {
      "cell_type": "code",
      "source": [
        "def calculate_viterbi(validation_sentences, n, emission_model_dict, unigram_dict, bigram_dict, trigram_dict):\n",
        "    validation_sentences = validation_sentences.with_columns(\n",
        "        pl.col(\"sentence\").map_elements(\n",
        "            lambda sentence: viterbi_sentence(sentence, n, emission_model_dict, unigram_dict, bigram_dict, trigram_dict),\n",
        "            return_dtype=pl.List(pl.String)\n",
        "        ).alias(\"predicted_tag\")\n",
        "    )\n",
        "\n",
        "    return validation_sentences"
      ],
      "metadata": {
        "id": "JcK8pM-LMIJK"
      },
      "execution_count": 28,
      "outputs": []
    },
    {
      "cell_type": "code",
      "source": [
        "validation_sentences_unigram = calculate_viterbi(validation_sentences, 1, emission_model_dict, unigram_dict, bigram_dict, trigram_dict)\n",
        "validation_sentences_bigram = calculate_viterbi(validation_sentences, 2, emission_model_dict, unigram_dict, bigram_dict, trigram_dict)\n",
        "validation_sentences_trigram = calculate_viterbi(validation_sentences, 3, emission_model_dict, unigram_dict, bigram_dict, trigram_dict)"
      ],
      "metadata": {
        "id": "L_T3xwu5eJmF"
      },
      "execution_count": 60,
      "outputs": []
    },
    {
      "cell_type": "code",
      "source": [
        "validation_sentences.head(10)"
      ],
      "metadata": {
        "colab": {
          "base_uri": "https://localhost:8080/",
          "height": 551
        },
        "id": "-LJJAs_Jfbpy",
        "outputId": "7ba5810a-3afb-4a9e-acf2-c0bfb3fc479a"
      },
      "execution_count": 30,
      "outputs": [
        {
          "output_type": "execute_result",
          "data": {
            "text/plain": [
              "shape: (10, 4)\n",
              "┌───────┬──────────────────────────────┬─────────────────────────────┬─────────────────────────────┐\n",
              "│ index ┆ sentence                     ┆ tag                         ┆ predicted_tag               │\n",
              "│ ---   ┆ ---                          ┆ ---                         ┆ ---                         │\n",
              "│ i64   ┆ list[str]                    ┆ list[str]                   ┆ list[str]                   │\n",
              "╞═══════╪══════════════════════════════╪═════════════════════════════╪═════════════════════════════╡\n",
              "│ 0     ┆ [\"ازدواج\", \"پس\", \"از\", \"46\", ┆ [\"N_SING\", \"N_SING\", \"P\",   ┆ [\"N_SING\", \"N_SING\", \"P\",   │\n",
              "│       ┆ \"سال\", \"انتظار\", \"!\"]        ┆ \"N_SING\", \"N_SING\",         ┆ \"N_SING\", \"N_SING\",         │\n",
              "│       ┆                              ┆ \"N_SING\", \"DELM\"]           ┆ \"N_SING\", \"DELM\"]           │\n",
              "│ 1     ┆ [\"پاریس\", \"ـ\", \"ایرنا\"]      ┆ [\"N_SING\", \"DELM\",          ┆ [\"N_SING\", \"DELM\",          │\n",
              "│       ┆                              ┆ \"N_SING\"]                   ┆ \"N_SING\"]                   │\n",
              "│ 2     ┆ [\"الفبای\", \"فارسی\",          ┆ [\"N_SING\", \"N_SING\",        ┆ [\"N_SING\", \"ADJ_SIM\",       │\n",
              "│       ┆ \"باستان\", \"36\", \"حرف\", \"و\",  ┆ \"ADJ_SIM\", \"N_SING\",        ┆ \"ADJ_SIM\", \"N_SING\",        │\n",
              "│       ┆ \"2\", \"واژه‌جداکن\", \"و\"…       ┆ \"N_SING\", \"CON\", \"N_SING\",  ┆ \"N_SING\", \"CON\", \"N_SING\",  │\n",
              "│       ┆                              ┆ \"…                          ┆ …                           │\n",
              "│ 3     ┆ [\"نیویورک\", \"-\", \"ایرنا\",    ┆ [\"N_SING\", \"DELM\",          ┆ [\"N_SING\", \"DELM\",          │\n",
              "│       ┆ \":\", \"مقامات\", \"بهداشتی\",    ┆ \"N_SING\", \"DELM\", \"N_PL\",   ┆ \"N_SING\", \"DELM\", \"N_PL\",   │\n",
              "│       ┆ \"آمریکا\", \"اعلام\",…           ┆ \"ADJ_SIM\", \"N_SING\", \"N_S…  ┆ \"ADJ_SIM\", \"N_SING\", \"N_S…  │\n",
              "│ 4     ┆ [\"مسعود\", \"جمشیدی\", \":\",     ┆ [\"N_SING\", \"N_SING\",        ┆ [\"N_SING\", \"N_SING\",        │\n",
              "│       ┆ \"همه\", \"تلاش\", \"خود\", \"را\",   ┆ \"DELM\", \"QUA\", \"N_SING\",    ┆ \"DELM\", \"QUA\", \"N_SING\",    │\n",
              "│       ┆ \"به\", \"کار\", … \".…           ┆ \"PRO\", \"P\", \"P\", \"N_SING…   ┆ \"PRO\", \"P\", \"P\", \"N_SING…   │\n",
              "│ 5     ┆ [\"روزنامه\", \"ایران\", \"در\",   ┆ [\"N_SING\", \"N_SING\", \"P\",   ┆ [\"N_SING\", \"N_SING\", \"P\",   │\n",
              "│       ┆ \"ستون\", \"خبرهای\", \"ویژه\",    ┆ \"N_SING\", \"N_PL\",           ┆ \"N_SING\", \"N_PL\",           │\n",
              "│       ┆ \"خود\", \"نوشته\", \"…           ┆ \"ADJ_SIM\", \"PRO\", \"ADJ_INO… ┆ \"ADJ_SIM\", \"PRO\", \"ADJ_INO… │\n",
              "│ 6     ┆ [\"نیروهای\", \"روسیه\", \"،\",    ┆ [\"N_PL\", \"N_SING\", \"DELM\",  ┆ [\"N_SING\", \"N_SING\",        │\n",
              "│       ┆ \"دیروز\", \"»\", \"شنبه\", \"«\",   ┆ \"ADV_TIME\", \"DELM\",         ┆ \"DELM\", \"ADV_TIME\", \"DELM\", │\n",
              "│       ┆ \"برای\", \"دومین\", …           ┆ \"N_SING\", \"DELM\", \"P\", …    ┆ \"N_SING\", \"DELM\", \"P\"…      │\n",
              "│ 7     ┆ [\"یک\", \"زن\", \"جوان\",         ┆ [\"N_SING\", \"N_SING\",        ┆ [\"N_SING\", \"N_SING\",        │\n",
              "│       ┆ \"آلمانی\", \"که\", \"برای\",      ┆ \"ADJ_SIM\", \"ADJ_SIM\",       ┆ \"ADJ_SIM\", \"ADJ_SIM\",       │\n",
              "│       ┆ \"گردش\", \"به\", \"ترکیه\", … …   ┆ \"CON\", \"P\", \"N_SING\", \"P\",  ┆ \"CON\", \"P\", \"N_SING\", \"P\",  │\n",
              "│       ┆                              ┆ …                           ┆ …                           │\n",
              "│ 8     ┆ [\"نگارنده\", \"بحث\", \"ساخت\",   ┆ [\"N_SING\", \"N_SING\",        ┆ [\"N_SING\", \"N_SING\",        │\n",
              "│       ┆ \"سازه‌ای\", \"گروه\", \"فعلی\",    ┆ \"N_SING\", \"ADJ_SIM\",        ┆ \"N_SING\", \"ADJ_SIM\",        │\n",
              "│       ┆ \"و\", \"این‌که\", \"…             ┆ \"N_SING\", \"ADJ_SIM\", \"CON\", ┆ \"N_SING\", \"ADJ_SIM\", \"CON\", │\n",
              "│       ┆                              ┆ …                           ┆ …                           │\n",
              "│ 9     ┆ [\"طبیعی\", \"است\", \"که\",       ┆ [\"ADJ_SIM\", \"V_PRE\", \"CON\", ┆ [\"N_SING\", \"V_PRE\", \"CON\",  │\n",
              "│       ┆ \"این\", \"بحران\", \"یک‌روزه\",    ┆ \"DET\", \"N_SING\", \"MORP\",    ┆ \"DET\", \"N_SING\", \"ADJ_SIM\", │\n",
              "│       ┆ \"به\", \"سراغ\", \"ما\", …        ┆ \"P\", \"N_SING\", \"P…          ┆ \"P\", \"N_SING\", …            │\n",
              "└───────┴──────────────────────────────┴─────────────────────────────┴─────────────────────────────┘"
            ],
            "text/html": [
              "<div><style>\n",
              ".dataframe > thead > tr,\n",
              ".dataframe > tbody > tr {\n",
              "  text-align: right;\n",
              "  white-space: pre-wrap;\n",
              "}\n",
              "</style>\n",
              "<small>shape: (10, 4)</small><table border=\"1\" class=\"dataframe\"><thead><tr><th>index</th><th>sentence</th><th>tag</th><th>predicted_tag</th></tr><tr><td>i64</td><td>list[str]</td><td>list[str]</td><td>list[str]</td></tr></thead><tbody><tr><td>0</td><td>[&quot;ازدواج&quot;, &quot;پس&quot;, &quot;از&quot;, &quot;46&quot;, &quot;سال&quot;, &quot;انتظار&quot;, &quot;!&quot;]</td><td>[&quot;N_SING&quot;, &quot;N_SING&quot;, &quot;P&quot;, &quot;N_SING&quot;, &quot;N_SING&quot;, &quot;N_SING&quot;, &quot;DELM&quot;]</td><td>[&quot;N_SING&quot;, &quot;N_SING&quot;, &quot;P&quot;, &quot;N_SING&quot;, &quot;N_SING&quot;, &quot;N_SING&quot;, &quot;DELM&quot;]</td></tr><tr><td>1</td><td>[&quot;پاریس&quot;, &quot;ـ&quot;, &quot;ایرنا&quot;]</td><td>[&quot;N_SING&quot;, &quot;DELM&quot;, &quot;N_SING&quot;]</td><td>[&quot;N_SING&quot;, &quot;DELM&quot;, &quot;N_SING&quot;]</td></tr><tr><td>2</td><td>[&quot;الفبای&quot;, &quot;فارسی&quot;, &quot;باستان&quot;, &quot;36&quot;, &quot;حرف&quot;, &quot;و&quot;, &quot;2&quot;, &quot;واژه‌جداکن&quot;, &quot;و&quot;, … &quot;.&quot;]</td><td>[&quot;N_SING&quot;, &quot;N_SING&quot;, &quot;ADJ_SIM&quot;, &quot;N_SING&quot;, &quot;N_SING&quot;, &quot;CON&quot;, &quot;N_SING&quot;, &quot;N_SING&quot;, &quot;CON&quot;, … &quot;DELM&quot;]</td><td>[&quot;N_SING&quot;, &quot;ADJ_SIM&quot;, &quot;ADJ_SIM&quot;, &quot;N_SING&quot;, &quot;N_SING&quot;, &quot;CON&quot;, &quot;N_SING&quot;, &quot;N_SING&quot;, &quot;CON&quot;, … &quot;DELM&quot;]</td></tr><tr><td>3</td><td>[&quot;نیویورک&quot;, &quot;-&quot;, &quot;ایرنا&quot;, &quot;:&quot;, &quot;مقامات&quot;, &quot;بهداشتی&quot;, &quot;آمریکا&quot;, &quot;اعلام&quot;, &quot;کردند&quot;, … &quot;.&quot;]</td><td>[&quot;N_SING&quot;, &quot;DELM&quot;, &quot;N_SING&quot;, &quot;DELM&quot;, &quot;N_PL&quot;, &quot;ADJ_SIM&quot;, &quot;N_SING&quot;, &quot;N_SING&quot;, &quot;V_PA&quot;, … &quot;DELM&quot;]</td><td>[&quot;N_SING&quot;, &quot;DELM&quot;, &quot;N_SING&quot;, &quot;DELM&quot;, &quot;N_PL&quot;, &quot;ADJ_SIM&quot;, &quot;N_SING&quot;, &quot;N_SING&quot;, &quot;V_PA&quot;, … &quot;DELM&quot;]</td></tr><tr><td>4</td><td>[&quot;مسعود&quot;, &quot;جمشیدی&quot;, &quot;:&quot;, &quot;همه&quot;, &quot;تلاش&quot;, &quot;خود&quot;, &quot;را&quot;, &quot;به&quot;, &quot;کار&quot;, … &quot;.&quot;]</td><td>[&quot;N_SING&quot;, &quot;N_SING&quot;, &quot;DELM&quot;, &quot;QUA&quot;, &quot;N_SING&quot;, &quot;PRO&quot;, &quot;P&quot;, &quot;P&quot;, &quot;N_SING&quot;, … &quot;DELM&quot;]</td><td>[&quot;N_SING&quot;, &quot;N_SING&quot;, &quot;DELM&quot;, &quot;QUA&quot;, &quot;N_SING&quot;, &quot;PRO&quot;, &quot;P&quot;, &quot;P&quot;, &quot;N_SING&quot;, … &quot;DELM&quot;]</td></tr><tr><td>5</td><td>[&quot;روزنامه&quot;, &quot;ایران&quot;, &quot;در&quot;, &quot;ستون&quot;, &quot;خبرهای&quot;, &quot;ویژه&quot;, &quot;خود&quot;, &quot;نوشته&quot;, &quot;است&quot;, … &quot;.&quot;]</td><td>[&quot;N_SING&quot;, &quot;N_SING&quot;, &quot;P&quot;, &quot;N_SING&quot;, &quot;N_PL&quot;, &quot;ADJ_SIM&quot;, &quot;PRO&quot;, &quot;ADJ_INO&quot;, &quot;V_PRE&quot;, … &quot;DELM&quot;]</td><td>[&quot;N_SING&quot;, &quot;N_SING&quot;, &quot;P&quot;, &quot;N_SING&quot;, &quot;N_PL&quot;, &quot;ADJ_SIM&quot;, &quot;PRO&quot;, &quot;ADJ_INO&quot;, &quot;V_PRE&quot;, … &quot;DELM&quot;]</td></tr><tr><td>6</td><td>[&quot;نیروهای&quot;, &quot;روسیه&quot;, &quot;،&quot;, &quot;دیروز&quot;, &quot;»&quot;, &quot;شنبه&quot;, &quot;«&quot;, &quot;برای&quot;, &quot;دومین&quot;, … &quot;.&quot;]</td><td>[&quot;N_PL&quot;, &quot;N_SING&quot;, &quot;DELM&quot;, &quot;ADV_TIME&quot;, &quot;DELM&quot;, &quot;N_SING&quot;, &quot;DELM&quot;, &quot;P&quot;, &quot;ADJ_SUP&quot;, … &quot;DELM&quot;]</td><td>[&quot;N_SING&quot;, &quot;N_SING&quot;, &quot;DELM&quot;, &quot;ADV_TIME&quot;, &quot;DELM&quot;, &quot;N_SING&quot;, &quot;DELM&quot;, &quot;P&quot;, &quot;ADJ_SUP&quot;, … &quot;DELM&quot;]</td></tr><tr><td>7</td><td>[&quot;یک&quot;, &quot;زن&quot;, &quot;جوان&quot;, &quot;آلمانی&quot;, &quot;که&quot;, &quot;برای&quot;, &quot;گردش&quot;, &quot;به&quot;, &quot;ترکیه&quot;, … &quot;.&quot;]</td><td>[&quot;N_SING&quot;, &quot;N_SING&quot;, &quot;ADJ_SIM&quot;, &quot;ADJ_SIM&quot;, &quot;CON&quot;, &quot;P&quot;, &quot;N_SING&quot;, &quot;P&quot;, &quot;N_SING&quot;, … &quot;DELM&quot;]</td><td>[&quot;N_SING&quot;, &quot;N_SING&quot;, &quot;ADJ_SIM&quot;, &quot;ADJ_SIM&quot;, &quot;CON&quot;, &quot;P&quot;, &quot;N_SING&quot;, &quot;P&quot;, &quot;N_SING&quot;, … &quot;DELM&quot;]</td></tr><tr><td>8</td><td>[&quot;نگارنده&quot;, &quot;بحث&quot;, &quot;ساخت&quot;, &quot;سازه‌ای&quot;, &quot;گروه&quot;, &quot;فعلی&quot;, &quot;و&quot;, &quot;این‌که&quot;, &quot;وابسته‌ها&quot;, … &quot;.&quot;]</td><td>[&quot;N_SING&quot;, &quot;N_SING&quot;, &quot;N_SING&quot;, &quot;ADJ_SIM&quot;, &quot;N_SING&quot;, &quot;ADJ_SIM&quot;, &quot;CON&quot;, &quot;CON&quot;, &quot;N_PL&quot;, … &quot;DELM&quot;]</td><td>[&quot;N_SING&quot;, &quot;N_SING&quot;, &quot;N_SING&quot;, &quot;ADJ_SIM&quot;, &quot;N_SING&quot;, &quot;ADJ_SIM&quot;, &quot;CON&quot;, &quot;CON&quot;, &quot;N_PL&quot;, … &quot;DELM&quot;]</td></tr><tr><td>9</td><td>[&quot;طبیعی&quot;, &quot;است&quot;, &quot;که&quot;, &quot;این&quot;, &quot;بحران&quot;, &quot;یک‌روزه&quot;, &quot;به&quot;, &quot;سراغ&quot;, &quot;ما&quot;, … &quot;.&quot;]</td><td>[&quot;ADJ_SIM&quot;, &quot;V_PRE&quot;, &quot;CON&quot;, &quot;DET&quot;, &quot;N_SING&quot;, &quot;MORP&quot;, &quot;P&quot;, &quot;N_SING&quot;, &quot;PRO&quot;, … &quot;DELM&quot;]</td><td>[&quot;N_SING&quot;, &quot;V_PRE&quot;, &quot;CON&quot;, &quot;DET&quot;, &quot;N_SING&quot;, &quot;ADJ_SIM&quot;, &quot;P&quot;, &quot;N_SING&quot;, &quot;PRO&quot;, … &quot;DELM&quot;]</td></tr></tbody></table></div>"
            ]
          },
          "metadata": {},
          "execution_count": 30
        }
      ]
    },
    {
      "cell_type": "markdown",
      "source": [
        "# Step 9: Calculate Confusion Matrix"
      ],
      "metadata": {
        "id": "NyyZ8PfpJDo5"
      }
    },
    {
      "cell_type": "code",
      "source": [
        "def calculate_confusion_metrics(dataframe: pl.DataFrame) -> Dict[str, int]:\n",
        "    metrics = {'TP': 0, 'FP': 0, 'FN': 0, 'TN': 0}\n",
        "\n",
        "    for row in dataframe.iter_rows(named=True):\n",
        "        true_tags = row['tag']\n",
        "        predicted_tags = row['predicted_tag']\n",
        "\n",
        "        for true_tag, pred_tag in zip(true_tags, predicted_tags):\n",
        "            if true_tag == pred_tag:\n",
        "                metrics['TP'] += 1\n",
        "            else:\n",
        "                metrics['FP'] += 1\n",
        "                metrics['FN'] += 1\n",
        "\n",
        "    metrics['TN'] = 0\n",
        "\n",
        "    return metrics"
      ],
      "metadata": {
        "id": "hv1B1MViJRVV"
      },
      "execution_count": 41,
      "outputs": []
    },
    {
      "cell_type": "code",
      "source": [
        "metrics_unigram = calculate_confusion_metrics(validation_sentences_unigram)\n",
        "metrics_bigram = calculate_confusion_metrics(validation_sentences_bigram)\n",
        "metrics_trigram = calculate_confusion_metrics(validation_sentences_trigram)"
      ],
      "metadata": {
        "id": "uwRMSpf4MQEA"
      },
      "execution_count": 61,
      "outputs": []
    },
    {
      "cell_type": "code",
      "source": [
        "def plot_confusion_matrix_seaborn(tp, fp, fn, tn, title='Confusion Matrix'):\n",
        "    cm = np.array([[tp, fp], [fn, tn]])\n",
        "    plt.figure(figsize=(6, 6))\n",
        "    sns.heatmap(cm, annot=True, fmt='d', cmap='Blues',\n",
        "                xticklabels=['Predicted +', 'Predicted -'],\n",
        "                yticklabels=['Actual +', 'Actual -'])\n",
        "    plt.title(title)\n",
        "    plt.ylabel('True Label')\n",
        "    plt.xlabel('Predicted Label')\n",
        "    plt.show()"
      ],
      "metadata": {
        "id": "7NkkVASXahcu"
      },
      "execution_count": 58,
      "outputs": []
    },
    {
      "cell_type": "code",
      "source": [
        "plot_confusion_matrix_seaborn(metrics_unigram['TP'], metrics_unigram['FP'], metrics_unigram['FN'], metrics_unigram['TN'], \"Unigram Confusion Matrix\")"
      ],
      "metadata": {
        "colab": {
          "base_uri": "https://localhost:8080/",
          "height": 564
        },
        "id": "LCLo-1otak_u",
        "outputId": "103e87c6-a071-4a36-f845-8cffc0982d09"
      },
      "execution_count": 62,
      "outputs": [
        {
          "output_type": "display_data",
          "data": {
            "text/plain": [
              "<Figure size 600x600 with 2 Axes>"
            ],
            "image/png": "[encoded data removed]"
          },
          "metadata": {}
        }
      ]
    },
    {
      "cell_type": "code",
      "source": [
        "plot_confusion_matrix_seaborn(metrics_bigram['TP'], metrics_bigram['FP'], metrics_bigram['FN'], metrics_bigram['TN'], \"Bigram Confusion Matrix\")"
      ],
      "metadata": {
        "colab": {
          "base_uri": "https://localhost:8080/",
          "height": 564
        },
        "id": "FlyyWFGabjD3",
        "outputId": "45f97f85-1a3f-4d35-da80-e3fd543399cb"
      },
      "execution_count": 63,
      "outputs": [
        {
          "output_type": "display_data",
          "data": {
            "text/plain": [
              "<Figure size 600x600 with 2 Axes>"
            ],
            "image/png": "[encoded data removed]"
          },
          "metadata": {}
        }
      ]
    },
    {
      "cell_type": "code",
      "source": [
        "plot_confusion_matrix_seaborn(metrics_trigram['TP'], metrics_trigram['FP'], metrics_trigram['FN'], metrics_trigram['TN'], \"Trigram Confusion Matrix\")"
      ],
      "metadata": {
        "colab": {
          "base_uri": "https://localhost:8080/",
          "height": 564
        },
        "id": "cR1FjKRLbuu1",
        "outputId": "1a9dca5b-4aaf-414b-f5c0-122f3789e7d9"
      },
      "execution_count": 64,
      "outputs": [
        {
          "output_type": "display_data",
          "data": {
            "text/plain": [
              "<Figure size 600x600 with 2 Axes>"
            ],
            "image/png": "[encoded data removed]"
          },
          "metadata": {}
        }
      ]
    },
    {
      "cell_type": "markdown",
      "source": [
        "# Step 10: Calculate Measurements"
      ],
      "metadata": {
        "id": "2unoKVh2VIii"
      }
    },
    {
      "cell_type": "code",
      "source": [
        "def calculate_measurements(tp: int, fp: int, fn: int, tn: int) -> Tuple[float, float, float, float]:\n",
        "    accuracy = (tp + tn) / (tp + fp + fn + tn) if (tp + fp + fn + tn) > 0 else 0.0\n",
        "    precision = tp / (tp + fp) if (tp + fp) > 0 else 0.0\n",
        "    recall = tp / (tp + fn) if (tp + fn) > 0 else 0.0\n",
        "    f1 = 2 * (precision * recall) / (precision + recall) if (precision + recall) > 0 else 0.0\n",
        "\n",
        "    return accuracy, precision, recall, f1"
      ],
      "metadata": {
        "id": "aq_7flRGVXL-"
      },
      "execution_count": 51,
      "outputs": []
    },
    {
      "cell_type": "code",
      "source": [
        "measurements_unigram = calculate_measurements(metrics_unigram['TP'], metrics_unigram['FP'], metrics_unigram['FN'], metrics_unigram['TN'])\n",
        "measurements_bigram = calculate_measurements(metrics_bigram['TP'], metrics_bigram['FP'], metrics_bigram['FN'], metrics_bigram['TN'])\n",
        "measurements_trigram = calculate_measurements(metrics_trigram['TP'], metrics_trigram['FP'], metrics_trigram['FN'], metrics_trigram['TN'])"
      ],
      "metadata": {
        "id": "LfCNRJWmVcbr"
      },
      "execution_count": 65,
      "outputs": []
    },
    {
      "cell_type": "code",
      "source": [
        "def print_measurements(accuracy, precision, recall, f1):\n",
        "    print(f\"Accuracy: {accuracy*100:.4f}\")\n",
        "    print(f\"Precision: {precision*100:.4f}\")\n",
        "    print(f\"Recall: {recall*100:.4f}\")\n",
        "    print(f\"F1-score: {f1*100:.4f}\")"
      ],
      "metadata": {
        "id": "DQAdJBj6XLGr"
      },
      "execution_count": 53,
      "outputs": []
    },
    {
      "cell_type": "code",
      "source": [
        "print_measurements(measurements_unigram[0], measurements_unigram[1], measurements_unigram[2], measurements_unigram[3])"
      ],
      "metadata": {
        "colab": {
          "base_uri": "https://localhost:8080/"
        },
        "id": "sz3aLBgsXcOB",
        "outputId": "7b7a5c32-031e-418c-c906-16335c535fb1"
      },
      "execution_count": 66,
      "outputs": [
        {
          "output_type": "stream",
          "name": "stdout",
          "text": [
            "Accuracy: 25.5772\n",
            "Precision: 40.7354\n",
            "Recall: 40.7354\n",
            "F1-score: 40.7354\n"
          ]
        }
      ]
    },
    {
      "cell_type": "code",
      "source": [
        "print_measurements(measurements_bigram[0], measurements_bigram[1], measurements_bigram[2], measurements_bigram[3])"
      ],
      "metadata": {
        "colab": {
          "base_uri": "https://localhost:8080/"
        },
        "id": "OjnDnaWNcIws",
        "outputId": "2fee6d2e-2dcf-4648-e2ed-e6b62729e248"
      },
      "execution_count": 67,
      "outputs": [
        {
          "output_type": "stream",
          "name": "stdout",
          "text": [
            "Accuracy: 92.4962\n",
            "Precision: 96.1019\n",
            "Recall: 96.1019\n",
            "F1-score: 96.1019\n"
          ]
        }
      ]
    },
    {
      "cell_type": "code",
      "source": [
        "print_measurements(measurements_trigram[0], measurements_trigram[1], measurements_trigram[2], measurements_trigram[3])"
      ],
      "metadata": {
        "colab": {
          "base_uri": "https://localhost:8080/"
        },
        "id": "Ybf5Oig4cI_O",
        "outputId": "40809d0b-643f-4bf0-a0bc-1ebcac46b465"
      },
      "execution_count": 68,
      "outputs": [
        {
          "output_type": "stream",
          "name": "stdout",
          "text": [
            "Accuracy: 92.3538\n",
            "Precision: 96.0249\n",
            "Recall: 96.0249\n",
            "F1-score: 96.0249\n"
          ]
        }
      ]
    },
    {
      "cell_type": "markdown",
      "source": [
        "# Step 11: Calculate the test set"
      ],
      "metadata": {
        "id": "ZO8gmuAUmKIl"
      }
    },
    {
      "cell_type": "code",
      "source": [
        "tagged_test = calculate_viterbi(test_sentences, 2, emission_model_dict, unigram_dict, bigram_dict, trigram_dict)"
      ],
      "metadata": {
        "id": "W_VszQ-amN0W"
      },
      "execution_count": 81,
      "outputs": []
    },
    {
      "cell_type": "code",
      "source": [
        "test_list_tags = []\n",
        "for row in tagged_test.iter_rows(named=True):\n",
        "    the_list = row[\"predicted_tag\"]\n",
        "    for element in the_list:\n",
        "        test_list_tags.append(element)"
      ],
      "metadata": {
        "id": "3kesfVAYp5iZ"
      },
      "execution_count": 86,
      "outputs": []
    },
    {
      "cell_type": "code",
      "source": [
        "def add_tags_to_file(input_file, tags, output_file, delimiter_tag=\"DELM\"):\n",
        "    with open(input_file, 'r') as f:\n",
        "        words = [line.strip() for line in f.readlines()]\n",
        "\n",
        "    tag_index = 0\n",
        "    output_lines = []\n",
        "\n",
        "    for word in words:\n",
        "        if word == '#':\n",
        "            output_lines.append(f\"#\\t{delimiter_tag}\")\n",
        "        else:\n",
        "            if tag_index < len(tags):\n",
        "                output_lines.append(f\"{word}\\t{tags[tag_index]}\")\n",
        "                tag_index += 1\n",
        "            else:\n",
        "                output_lines.append(f\"{word}\\tNO_TAG\")\n",
        "\n",
        "    with open(output_file, 'w') as f:\n",
        "        f.write('\\n'.join(output_lines))"
      ],
      "metadata": {
        "id": "ptvJoB3WrZVa"
      },
      "execution_count": 87,
      "outputs": []
    },
    {
      "cell_type": "code",
      "source": [
        "add_tags_to_file(\"/content/test.txt\", test_list_tags, \"/content/test_notags.txt\", delimiter_tag=\"DELM\")"
      ],
      "metadata": {
        "id": "Gggg-8aMs77F"
      },
      "execution_count": 88,
      "outputs": []
    }
  ],
  "metadata": {
    "colab": {
      "provenance": [],
      "authorship_tag": "ABX9TyOyNz9lNYPqzvASNQxNpBLL",
      "include_colab_link": true
    },
    "kernelspec": {
      "display_name": "Python 3",
      "name": "python3"
    },
    "language_info": {
      "name": "python"
    }
  },
  "nbformat": 4,
  "nbformat_minor": 0
}